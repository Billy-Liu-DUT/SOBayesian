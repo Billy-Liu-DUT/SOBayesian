{
 "cells": [
  {
   "metadata": {
    "ExecuteTime": {
     "end_time": "2024-06-27T05:20:22.530621Z",
     "start_time": "2024-06-27T05:20:22.520665Z"
    }
   },
   "cell_type": "code",
   "source": [
    "import numpy as np  \n",
    "import pandas as pd  \n",
    "import random  \n",
    "  \n",
    "# Define reaction kinetics parameters  \n",
    "R = 8.314  # Gas constant (J/mol·K)  \n",
    "Ea = 65e3  # Activation energy (J/mol)  \n",
    "A = 5e8    # Frequency factor (1/min)  \n",
    "  \n",
    "# Define the ranges and resolutions for time and temperature  \n",
    "time_range = np.linspace(10, 120, 100)  # Time range (min)  \n",
    "temp_range = np.linspace(25, 75, 100)  # Temperature range (°C)  \n",
    "  \n",
    "# Function to calculate the yield based on time and temperature  \n",
    "def calculate_yield(time, temperature):  \n",
    "    T = temperature + 273.15  # Convert to Kelvin  \n",
    "    k = A * np.exp(-Ea / (R * T))  # Reaction rate constant  \n",
    "    yield_value = (1 - np.exp(-k * time)) * 100  # Yield (%) based on first-order kinetics  \n",
    "    return yield_value  \n",
    "  \n",
    "# Function to randomly select points and export to CSV  \n",
    "def export_random_points_to_csv(num_points=10):  \n",
    "    random_points = []  \n",
    "    for _ in range(num_points):  \n",
    "        # Randomly select a time and temperature from their respective ranges  \n",
    "        random_time = random.choice(time_range)  \n",
    "        random_temp = random.choice(temp_range)  \n",
    "        # Calculate the yield for the selected time and temperature  \n",
    "        random_yield = calculate_yield(random_time, random_temp)  \n",
    "        # Append the time, temperature, and yield to the list  \n",
    "        random_points.append({'Time (min)': random_time, 'Temperature (°C)': random_temp, 'Yield (%)': random_yield})  \n",
    "      \n",
    "    # Convert the list of dictionaries to a DataFrame  \n",
    "    df = pd.DataFrame(random_points)  \n",
    "    # Export the DataFrame to a CSV file  \n",
    "    df.to_csv('random_points_yield.csv', index=False)  \n",
    "  \n",
    "# Call the function to export random points and their yields  \n",
    "export_random_points_to_csv()"
   ],
   "id": "226161185cba4246",
   "outputs": [],
   "execution_count": 9
  },
  {
   "metadata": {
    "ExecuteTime": {
     "end_time": "2024-06-28T05:48:19.932681Z",
     "start_time": "2024-06-28T05:48:01.521613Z"
    }
   },
   "cell_type": "code",
   "source": [
    "import numpy as np  \n",
    "  \n",
    "# Define reaction kinetics parameters  \n",
    "R = 8.314  # Gas constant (J/mol·K)  \n",
    "Ea = 65e3  # Activation energy (J/mol)  \n",
    "A = 5e8    # Frequency factor (1/min)  \n",
    "  \n",
    "# Function to calculate the yield based on time and temperature  \n",
    "def calculate_yield(time, temperature):  \n",
    "    T = temperature + 273.15  # Convert to Kelvin  \n",
    "    k = A * np.exp(-Ea / (R * T))  # Reaction rate constant  \n",
    "    yield_value = (1 - np.exp(-k * time)) * 100  # Yield (%) based on first-order kinetics  \n",
    "    return yield_value  \n",
    "  \n",
    "# Input reaction time and temperature from the user  \n",
    "reaction_time = float(input(\"Enter the reaction time (in minutes): \"))  \n",
    "reaction_temperature = float(input(\"Enter the reaction temperature (in degrees Celsius): \"))  \n",
    "  \n",
    "# Calculate the yield for the given time and temperature  \n",
    "yield_percentage = calculate_yield(reaction_time, reaction_temperature)  \n",
    "  \n",
    "# Print the calculated yield  \n",
    "print(f\"The calculated yield for a reaction time of {reaction_time} minutes at {reaction_temperature}°C is: {yield_percentage:.2f}%.\")\n"
   ],
   "id": "57f3c2d29d19805f",
   "outputs": [
    {
     "name": "stdout",
     "output_type": "stream",
     "text": [
      "The calculated yield for a reaction time of 99.25099077 minutes at 52.63696433°C is: 84.71%.\n"
     ]
    }
   ],
   "execution_count": 13
  },
  {
   "metadata": {
    "ExecuteTime": {
     "end_time": "2024-06-27T05:32:41.433114Z",
     "start_time": "2024-06-27T05:32:41.423947Z"
    }
   },
   "cell_type": "code",
   "source": [
    "import numpy as np  \n",
    "import pandas as pd  \n",
    "import random  \n",
    "  \n",
    "# Define reaction kinetics parameters  \n",
    "R = 8.314  # Gas constant (J/mol·K)  \n",
    "Ea = 65e3  # Activation energy (J/mol)  \n",
    "A = 5e8    # Frequency factor (1/min)  \n",
    "  \n",
    "# Define the ranges and resolutions for time and temperature  \n",
    "time_range = np.linspace(10, 65, 100)  # Time range (min)  \n",
    "temp_range = np.linspace(25, 50, 100)  # Temperature range (°C)  \n",
    "  \n",
    "# Function to calculate the yield based on time and temperature  \n",
    "def calculate_yield(time, temperature):  \n",
    "    T = temperature + 273.15  # Convert to Kelvin  \n",
    "    k = A * np.exp(-Ea / (R * T))  # Reaction rate constant  \n",
    "    yield_value = (1 - np.exp(-k * time)) * 100  # Yield (%) based on first-order kinetics  \n",
    "    return yield_value  \n",
    "  \n",
    "# Function to randomly select points and export to CSV  \n",
    "def export_random_points_to_csv(num_points=10):  \n",
    "    random_points = []  \n",
    "    for _ in range(num_points):  \n",
    "        # Randomly select a time and temperature from their respective ranges  \n",
    "        random_time = random.choice(time_range)  \n",
    "        random_temp = random.choice(temp_range)  \n",
    "        # Calculate the yield for the selected time and temperature  \n",
    "        random_yield = calculate_yield(random_time, random_temp)  \n",
    "        # Append the time, temperature, and yield to the list  \n",
    "        random_points.append({'Time (min)': random_time, 'Temperature (°C)': random_temp, 'Yield (%)': random_yield})  \n",
    "      \n",
    "    # Convert the list of dictionaries to a DataFrame  \n",
    "    df = pd.DataFrame(random_points)  \n",
    "    # Export the DataFrame to a CSV file  \n",
    "    df.to_csv('random_points_yield.csv', index=False)  \n",
    "  \n",
    "# Call the function to export random points and their yields  \n",
    "export_random_points_to_csv()"
   ],
   "id": "afa325f0d50ee520",
   "outputs": [],
   "execution_count": 11
  },
  {
   "metadata": {
    "ExecuteTime": {
     "end_time": "2024-06-27T05:55:31.574499Z",
     "start_time": "2024-06-27T05:55:31.564363Z"
    }
   },
   "cell_type": "code",
   "source": [
    "import numpy as np  \n",
    "import pandas as pd  \n",
    "from pyDOE2 import lhs  \n",
    "  \n",
    "# Define reaction kinetics parameters  \n",
    "R = 8.314  # Gas constant (J/mol·K)  \n",
    "Ea = 65e3  # Activation energy (J/mol)  \n",
    "A = 5e8    # Frequency factor (1/min) \n",
    "\n",
    "# Define the ranges and resolutions for time and temperature \n",
    "time_range = np.linspace(10, 120, 100)  # Time range (min)  \n",
    "temp_range = np.linspace(25, 75, 100)  # Temperature range (°C)  \n",
    "\n",
    "# Function to calculate the yield based on time and temperature  \n",
    "def calculate_yield(time, temperature):  \n",
    "    T = temperature + 273.15  # Convert to Kelvin  \n",
    "    k = A * np.exp(-Ea / (R * T))  # Reaction rate constant  \n",
    "    yield_value = (1 - np.exp(-k * time)) * 100  # Yield (%) based on first-order kinetics  \n",
    "    return yield_value \n",
    "\n",
    "# Function to select points using Latin Hypercube Sampling (LHS) and export to CSV  \n",
    "def export_lhs_points_to_csv(num_points=10):  \n",
    "    # Generate LHS samples for time and temperature  \n",
    "    lhd = lhs(2, samples=num_points)  # 2 dimensions: time and temperature  \n",
    "    lhs_points = []  \n",
    "      \n",
    "    # Scale the LHS samples to fit the time and temperature ranges  \n",
    "    for sample in lhd:  \n",
    "        # Scale time sample  \n",
    "        lhs_time = time_range[0] + (time_range[-1] - time_range[0]) * sample[0]  \n",
    "        # Scale temperature sample  \n",
    "        lhs_temp = temp_range[0] + (temp_range[-1] - temp_range[0]) * sample[1]  \n",
    "        # Calculate the yield for the selected time and temperature  \n",
    "        lhs_yield = calculate_yield(lhs_time, lhs_temp)  \n",
    "        # Append the time, temperature, and yield to the list  \n",
    "        lhs_points.append({'Time (min)': lhs_time, 'Temperature (°C)': lhs_temp, 'Yield (%)': lhs_yield})  \n",
    "      \n",
    "    # Convert the list of dictionaries to a DataFrame  \n",
    "    df = pd.DataFrame(lhs_points)  \n",
    "    # Export the DataFrame to a CSV file  \n",
    "    df.to_csv('lhs_points_yield.csv', index=False)  \n",
    "  \n",
    "# Call the function to export LHS points and their yields  \n",
    "export_lhs_points_to_csv()"
   ],
   "id": "e715ec0dc220a984",
   "outputs": [],
   "execution_count": 14
  },
  {
   "metadata": {},
   "cell_type": "code",
   "outputs": [],
   "execution_count": null,
   "source": "",
   "id": "b4416a88571e2c8"
  }
 ],
 "metadata": {
  "kernelspec": {
   "display_name": "Python 3",
   "language": "python",
   "name": "python3"
  },
  "language_info": {
   "codemirror_mode": {
    "name": "ipython",
    "version": 2
   },
   "file_extension": ".py",
   "mimetype": "text/x-python",
   "name": "python",
   "nbconvert_exporter": "python",
   "pygments_lexer": "ipython2",
   "version": "2.7.6"
  }
 },
 "nbformat": 4,
 "nbformat_minor": 5
}
